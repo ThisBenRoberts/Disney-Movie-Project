{
 "cells": [
  {
   "cell_type": "markdown",
   "id": "0bbad674-7924-47a6-bb59-86262f1c4d09",
   "metadata": {},
   "source": [
    "# 12 Modeling for Worldwide Rev"
   ]
  },
  {
   "cell_type": "markdown",
   "id": "2d7a2ef7-9e49-428d-9c75-092f4404d328",
   "metadata": {},
   "source": [
    "## 12.01 Imports\n"
   ]
  },
  {
   "cell_type": "markdown",
   "id": "2116895d-ea1e-49ef-abec-51239ab7feb8",
   "metadata": {},
   "source": [
    "### 12.01.01 Python Imports\n"
   ]
  },
  {
   "cell_type": "code",
   "execution_count": 121,
   "id": "419810e8-8dce-4c82-a7c1-32c537894e69",
   "metadata": {},
   "outputs": [],
   "source": [
    "import pandas as pd\n",
    "import numpy as np\n",
    "import matplotlib.pyplot as plt\n",
    "import seaborn as sns\n",
    "import sklearn.metrics as metrics\n",
    "from sklearn.metrics import mean_squared_error, make_scorer\n",
    "\n",
    "from sklearn.model_selection import train_test_split, cross_val_score, GridSearchCV, RandomizedSearchCV\n",
    "\n",
    "from sklearn.pipeline import Pipeline\n",
    "from sklearn.neighbors import KNeighborsRegressor\n",
    "from sklearn.preprocessing import StandardScaler, PolynomialFeatures\n",
    "\n",
    "from sklearn.linear_model import LinearRegression, Lasso, LassoCV, Ridge, RidgeCV\n",
    "from sklearn.ensemble import AdaBoostRegressor, RandomForestRegressor, BaggingRegressor\n",
    "from sklearn.tree import DecisionTreeRegressor\n",
    "from sklearn.decomposition import PCA"
   ]
  },
  {
   "cell_type": "markdown",
   "id": "97804523-c7cd-444c-a85b-59abff99f6fa",
   "metadata": {},
   "source": [
    "### 12.01.02 Feature Film Import\n"
   ]
  },
  {
   "cell_type": "markdown",
   "id": "b22ba832-8ace-46b8-94b0-6b2c9c29f2d8",
   "metadata": {},
   "source": [
    "Read in Data"
   ]
  },
  {
   "cell_type": "code",
   "execution_count": 123,
   "id": "0ab4b932-d56c-4c58-ba61-4ddb8e7075d3",
   "metadata": {},
   "outputs": [],
   "source": [
    "df = pd.read_csv('../Bens_Data/Disney_Films_For_Visual.csv')\n",
    "df.drop(columns=['Unnamed: 0','index'], inplace=True)"
   ]
  },
  {
   "cell_type": "markdown",
   "id": "26b4e6d8-248a-4fff-a517-f55e56d796fd",
   "metadata": {},
   "source": [
    "### 12.02 Determine and Create Features List"
   ]
  },
  {
   "cell_type": "code",
   "execution_count": 124,
   "id": "bc84b5eb-94d1-40fb-9e0b-69a6f52f2c45",
   "metadata": {},
   "outputs": [
    {
     "data": {
      "text/plain": [
       "Index(['DFL_title', 'tconst', 'titleType', 'primaryTitle', 'startYear',\n",
       "       'runtimeMinutes', 'genres', 'averageRating', 'numVotes', 'newurl',\n",
       "       'mpaarating', 'rlsdt', 'budget', 'worldwide', 'DIR_COUNT', 'DIR_AGE',\n",
       "       'DIR_RTG', 'DIR_FILM_COUNT', 'WTR_COUNT', 'WTR_AGE', 'WTR_FILM_COUNT',\n",
       "       'action', 'adventure', 'animation', 'biography', 'comedy', 'crime',\n",
       "       'documentary', 'drama', 'family', 'fantasy', 'fi', 'history', 'horror',\n",
       "       'music', 'musical', 'mystery', 'news', 'romance', 'sci', 'sport',\n",
       "       'thriller', 'western', 'newmpaarating_G', 'newmpaarating_Not Rated',\n",
       "       'newmpaarating_PG', 'newmpaarating_PG-13', 'budget_adj',\n",
       "       'worldwide_adj', 'ROI', 'rlsdt_dt', 'rlsdt_mo', 'rlsdt_day',\n",
       "       'rlsdt_daynm', 'rlsdt_dayofwk', 'rlsdt_season', 'rlsdt_season_NM'],\n",
       "      dtype='object')"
      ]
     },
     "execution_count": 124,
     "metadata": {},
     "output_type": "execute_result"
    }
   ],
   "source": [
    "df.columns"
   ]
  },
  {
   "cell_type": "code",
   "execution_count": 133,
   "id": "f100cc24-85f1-450c-bf35-f9f11600ca2b",
   "metadata": {},
   "outputs": [],
   "source": [
    "features = [ 'startYear',\n",
    "       'runtimeMinutes', \n",
    "        #'averageRating', \n",
    "        #'numVotes', \n",
    "       'DIR_COUNT', 'DIR_AGE',\n",
    "       'DIR_RTG', 'DIR_FILM_COUNT', 'WTR_COUNT', 'WTR_AGE', \n",
    "       'WTR_FILM_COUNT','action', 'adventure', 'animation', \n",
    "       'biography', 'comedy', 'crime','documentary', 'drama', \n",
    "       'family', 'fantasy', 'fi', 'history', 'horror','music', \n",
    "       'musical', 'mystery', 'news', 'romance', 'sci', 'sport',\n",
    "       'thriller', 'western', 'newmpaarating_G', 'newmpaarating_Not Rated',\n",
    "       'newmpaarating_PG', 'newmpaarating_PG-13', 'budget_adj',\n",
    "       #'worldwide_adj', \n",
    "       #'ROI', \n",
    "       'rlsdt_mo', 'rlsdt_day',\n",
    "       'rlsdt_dayofwk', 'rlsdt_season']"
   ]
  },
  {
   "cell_type": "code",
   "execution_count": 125,
   "id": "802f4b85-1447-4337-bf8e-b94df7b907fa",
   "metadata": {},
   "outputs": [
    {
     "data": {
      "text/html": [
       "<div>\n",
       "<style scoped>\n",
       "    .dataframe tbody tr th:only-of-type {\n",
       "        vertical-align: middle;\n",
       "    }\n",
       "\n",
       "    .dataframe tbody tr th {\n",
       "        vertical-align: top;\n",
       "    }\n",
       "\n",
       "    .dataframe thead th {\n",
       "        text-align: right;\n",
       "    }\n",
       "</style>\n",
       "<table border=\"1\" class=\"dataframe\">\n",
       "  <thead>\n",
       "    <tr style=\"text-align: right;\">\n",
       "      <th></th>\n",
       "      <th>DFL_title</th>\n",
       "      <th>tconst</th>\n",
       "      <th>titleType</th>\n",
       "      <th>primaryTitle</th>\n",
       "      <th>startYear</th>\n",
       "      <th>runtimeMinutes</th>\n",
       "      <th>genres</th>\n",
       "      <th>averageRating</th>\n",
       "      <th>numVotes</th>\n",
       "      <th>newurl</th>\n",
       "      <th>...</th>\n",
       "      <th>budget_adj</th>\n",
       "      <th>worldwide_adj</th>\n",
       "      <th>ROI</th>\n",
       "      <th>rlsdt_dt</th>\n",
       "      <th>rlsdt_mo</th>\n",
       "      <th>rlsdt_day</th>\n",
       "      <th>rlsdt_daynm</th>\n",
       "      <th>rlsdt_dayofwk</th>\n",
       "      <th>rlsdt_season</th>\n",
       "      <th>rlsdt_season_NM</th>\n",
       "    </tr>\n",
       "  </thead>\n",
       "  <tbody>\n",
       "    <tr>\n",
       "      <th>0</th>\n",
       "      <td>101 Dalmatians</td>\n",
       "      <td>tt0115433</td>\n",
       "      <td>movie</td>\n",
       "      <td>101 Dalmatians</td>\n",
       "      <td>1996</td>\n",
       "      <td>103</td>\n",
       "      <td>Adventure,Comedy,Crime</td>\n",
       "      <td>5.7</td>\n",
       "      <td>109712.0</td>\n",
       "      <td>https://www.imdb.com/title/tt0115433</td>\n",
       "      <td>...</td>\n",
       "      <td>75000000</td>\n",
       "      <td>320689294</td>\n",
       "      <td>3.275857</td>\n",
       "      <td>1996-11-27</td>\n",
       "      <td>11.0</td>\n",
       "      <td>27.0</td>\n",
       "      <td>Wednesday</td>\n",
       "      <td>4.0</td>\n",
       "      <td>3.0</td>\n",
       "      <td>Fall</td>\n",
       "    </tr>\n",
       "    <tr>\n",
       "      <th>1</th>\n",
       "      <td>102 Dalmatians</td>\n",
       "      <td>tt0211181</td>\n",
       "      <td>movie</td>\n",
       "      <td>102 Dalmatians</td>\n",
       "      <td>2000</td>\n",
       "      <td>100</td>\n",
       "      <td>Adventure,Comedy,Family</td>\n",
       "      <td>4.8</td>\n",
       "      <td>37056.0</td>\n",
       "      <td>https://www.imdb.com/title/tt0211181</td>\n",
       "      <td>...</td>\n",
       "      <td>85000000</td>\n",
       "      <td>183611771</td>\n",
       "      <td>1.160138</td>\n",
       "      <td>2000-11-22</td>\n",
       "      <td>11.0</td>\n",
       "      <td>22.0</td>\n",
       "      <td>Wednesday</td>\n",
       "      <td>4.0</td>\n",
       "      <td>3.0</td>\n",
       "      <td>Fall</td>\n",
       "    </tr>\n",
       "    <tr>\n",
       "      <th>2</th>\n",
       "      <td>20,000 Leagues Under the Sea</td>\n",
       "      <td>tt0046672</td>\n",
       "      <td>movie</td>\n",
       "      <td>20,000 Leagues Under the Sea</td>\n",
       "      <td>1954</td>\n",
       "      <td>127</td>\n",
       "      <td>Adventure,Drama,Family</td>\n",
       "      <td>7.2</td>\n",
       "      <td>33109.0</td>\n",
       "      <td>https://www.imdb.com/title/tt0046672</td>\n",
       "      <td>...</td>\n",
       "      <td>9000000</td>\n",
       "      <td>0</td>\n",
       "      <td>-1.000000</td>\n",
       "      <td>1955-07-20</td>\n",
       "      <td>7.0</td>\n",
       "      <td>20.0</td>\n",
       "      <td>Wednesday</td>\n",
       "      <td>4.0</td>\n",
       "      <td>2.0</td>\n",
       "      <td>Summer</td>\n",
       "    </tr>\n",
       "    <tr>\n",
       "      <th>3</th>\n",
       "      <td>A Bug's Life</td>\n",
       "      <td>tt0120623</td>\n",
       "      <td>movie</td>\n",
       "      <td>A Bug's Life</td>\n",
       "      <td>1998</td>\n",
       "      <td>95</td>\n",
       "      <td>Adventure,Animation,Comedy</td>\n",
       "      <td>7.2</td>\n",
       "      <td>284538.0</td>\n",
       "      <td>https://www.imdb.com/title/tt0120623</td>\n",
       "      <td>...</td>\n",
       "      <td>120000000</td>\n",
       "      <td>363258859</td>\n",
       "      <td>2.027157</td>\n",
       "      <td>1998-11-25</td>\n",
       "      <td>11.0</td>\n",
       "      <td>25.0</td>\n",
       "      <td>Wednesday</td>\n",
       "      <td>4.0</td>\n",
       "      <td>3.0</td>\n",
       "      <td>Fall</td>\n",
       "    </tr>\n",
       "    <tr>\n",
       "      <th>4</th>\n",
       "      <td>A Christmas Carol</td>\n",
       "      <td>tt1067106</td>\n",
       "      <td>movie</td>\n",
       "      <td>A Christmas Carol</td>\n",
       "      <td>2009</td>\n",
       "      <td>96</td>\n",
       "      <td>Adventure,Animation,Comedy</td>\n",
       "      <td>6.8</td>\n",
       "      <td>112582.0</td>\n",
       "      <td>https://www.imdb.com/title/tt1067106</td>\n",
       "      <td>...</td>\n",
       "      <td>200000000</td>\n",
       "      <td>325286646</td>\n",
       "      <td>0.626433</td>\n",
       "      <td>2009-11-06</td>\n",
       "      <td>11.0</td>\n",
       "      <td>6.0</td>\n",
       "      <td>Friday</td>\n",
       "      <td>6.0</td>\n",
       "      <td>3.0</td>\n",
       "      <td>Fall</td>\n",
       "    </tr>\n",
       "  </tbody>\n",
       "</table>\n",
       "<p>5 rows × 57 columns</p>\n",
       "</div>"
      ],
      "text/plain": [
       "                      DFL_title     tconst titleType  \\\n",
       "0                101 Dalmatians  tt0115433     movie   \n",
       "1                102 Dalmatians  tt0211181     movie   \n",
       "2  20,000 Leagues Under the Sea  tt0046672     movie   \n",
       "3                  A Bug's Life  tt0120623     movie   \n",
       "4             A Christmas Carol  tt1067106     movie   \n",
       "\n",
       "                   primaryTitle  startYear  runtimeMinutes  \\\n",
       "0                101 Dalmatians       1996             103   \n",
       "1                102 Dalmatians       2000             100   \n",
       "2  20,000 Leagues Under the Sea       1954             127   \n",
       "3                  A Bug's Life       1998              95   \n",
       "4             A Christmas Carol       2009              96   \n",
       "\n",
       "                       genres  averageRating  numVotes  \\\n",
       "0      Adventure,Comedy,Crime            5.7  109712.0   \n",
       "1     Adventure,Comedy,Family            4.8   37056.0   \n",
       "2      Adventure,Drama,Family            7.2   33109.0   \n",
       "3  Adventure,Animation,Comedy            7.2  284538.0   \n",
       "4  Adventure,Animation,Comedy            6.8  112582.0   \n",
       "\n",
       "                                 newurl  ... budget_adj worldwide_adj  \\\n",
       "0  https://www.imdb.com/title/tt0115433  ...   75000000     320689294   \n",
       "1  https://www.imdb.com/title/tt0211181  ...   85000000     183611771   \n",
       "2  https://www.imdb.com/title/tt0046672  ...    9000000             0   \n",
       "3  https://www.imdb.com/title/tt0120623  ...  120000000     363258859   \n",
       "4  https://www.imdb.com/title/tt1067106  ...  200000000     325286646   \n",
       "\n",
       "        ROI    rlsdt_dt  rlsdt_mo  rlsdt_day  rlsdt_daynm  rlsdt_dayofwk  \\\n",
       "0  3.275857  1996-11-27      11.0       27.0    Wednesday            4.0   \n",
       "1  1.160138  2000-11-22      11.0       22.0    Wednesday            4.0   \n",
       "2 -1.000000  1955-07-20       7.0       20.0    Wednesday            4.0   \n",
       "3  2.027157  1998-11-25      11.0       25.0    Wednesday            4.0   \n",
       "4  0.626433  2009-11-06      11.0        6.0       Friday            6.0   \n",
       "\n",
       "   rlsdt_season  rlsdt_season_NM  \n",
       "0           3.0             Fall  \n",
       "1           3.0             Fall  \n",
       "2           2.0           Summer  \n",
       "3           3.0             Fall  \n",
       "4           3.0             Fall  \n",
       "\n",
       "[5 rows x 57 columns]"
      ]
     },
     "execution_count": 125,
     "metadata": {},
     "output_type": "execute_result"
    }
   ],
   "source": [
    "df.head()"
   ]
  },
  {
   "cell_type": "code",
   "execution_count": 126,
   "id": "4c18d7ce-b15a-4561-b0f8-46f26af705ff",
   "metadata": {},
   "outputs": [
    {
     "data": {
      "text/plain": [
       "(431, 57)"
      ]
     },
     "execution_count": 126,
     "metadata": {},
     "output_type": "execute_result"
    }
   ],
   "source": [
    "df.shape"
   ]
  },
  {
   "cell_type": "code",
   "execution_count": 127,
   "id": "9949907f-62ea-45a0-afa4-eaa95ca11a81",
   "metadata": {},
   "outputs": [
    {
     "data": {
      "text/plain": [
       "(304, 57)"
      ]
     },
     "execution_count": 127,
     "metadata": {},
     "output_type": "execute_result"
    }
   ],
   "source": [
    "df = df[df['worldwide_adj'] > 0]\n",
    "df.shape"
   ]
  },
  {
   "cell_type": "code",
   "execution_count": 132,
   "id": "f25b9124-4e6c-4378-a65f-270e19c45688",
   "metadata": {},
   "outputs": [
    {
     "data": {
      "text/plain": [
       "(247717829.2993421, 3000, 2797501328)"
      ]
     },
     "execution_count": 132,
     "metadata": {},
     "output_type": "execute_result"
    }
   ],
   "source": [
    "df['worldwide_adj'].mean(), df['worldwide_adj'].min(), df['worldwide_adj'].max()"
   ]
  },
  {
   "cell_type": "markdown",
   "id": "73d64e4c-1191-4054-9f2f-1ae0e732aea7",
   "metadata": {},
   "source": [
    "### 12.03 Null Model\n"
   ]
  },
  {
   "cell_type": "code",
   "execution_count": 130,
   "id": "29792270-c9a3-41a6-a114-7c5e62a47eac",
   "metadata": {},
   "outputs": [
    {
     "data": {
      "text/plain": [
       "359926713.1040875"
      ]
     },
     "execution_count": 130,
     "metadata": {},
     "output_type": "execute_result"
    }
   ],
   "source": [
    "df['base'] = df['worldwide_adj'].mean()\n",
    "RMSE = np.sqrt(metrics.mean_squared_error(df['worldwide_adj'], df['base']))\n",
    "RMSE"
   ]
  },
  {
   "cell_type": "markdown",
   "id": "abe77034-6c0c-4cb8-b49f-6e6192d748ca",
   "metadata": {},
   "source": [
    "The Baseline model has a Root Mean Squared Error of 359926713%. On average the predicted Worldwide Rev is about 3599267133% off from the true average rating.\n",
    "There is such huge variance in the worldwide numbers, our mean 247 M looks really odd.  Our Max is 2.7B, and our Min in 3k.  "
   ]
  },
  {
   "cell_type": "markdown",
   "id": "21a02204-2307-4e25-98a4-52a5b657350b",
   "metadata": {},
   "source": [
    "### 12.04 Pipeline"
   ]
  },
  {
   "cell_type": "code",
   "execution_count": 134,
   "id": "c5d39285-2846-448a-bf0f-dbb353a7e61b",
   "metadata": {},
   "outputs": [],
   "source": [
    "X = df[features]\n",
    "y = df['worldwide_adj']"
   ]
  },
  {
   "cell_type": "code",
   "execution_count": 135,
   "id": "05672b7e-ce43-435e-b455-242e9a9acd18",
   "metadata": {},
   "outputs": [],
   "source": [
    "def modelfunc(X, y):\n",
    "    pipelines = [\n",
    "        ('LINEAR REGRESSION', (Pipeline([ ('LR', LinearRegression())]))),\n",
    "        ('DECISION TREE', (Pipeline([ ('TREE', DecisionTreeRegressor())]))),\n",
    "        ('BAGGED TREE', (Pipeline([ ('BAG', BaggingRegressor())]))),\n",
    "        ('RANDOM FOREST', (Pipeline([ ('RAND', RandomForestRegressor())]))),\n",
    "        ('ADABOOST', (Pipeline([ ('ADA', AdaBoostRegressor())]))),\n",
    "        ('KNN', (Pipeline([ ('sc', StandardScaler()),('KNN', KNeighborsRegressor())]))),\n",
    "        ('LASSO',(Pipeline([ ('sc', StandardScaler()),('LASSO', LassoCV())]))),\n",
    "        ('RIDGE',(Pipeline([ ('sc', StandardScaler()),('RIDGE', RidgeCV())])))\n",
    "    ]\n",
    "    X_train, X_test, y_train, y_test = train_test_split(X, y, random_state = 42) \n",
    "    for pipe_name ,model in pipelines:\n",
    "        print(pipe_name)\n",
    "        model.fit(X_train, y_train)\n",
    "        y_pred_train = model.predict(X_train)\n",
    "        y_pred_test = model.predict(X_test)\n",
    "        trainscore = model.score(X_train, y_train)\n",
    "        testscore = model.score(X_test, y_test)\n",
    "        crossval = cross_val_score(model, X_train, y_train).mean()\n",
    "        rmsetr= np.sqrt(metrics.mean_squared_error(y_train, y_pred_train))\n",
    "        rmsete = np.sqrt(metrics.mean_squared_error(y_test, y_pred_test))\n",
    "        print (f'Model = {model}')\n",
    "        print (f'Train Score = {trainscore}')\n",
    "        print (f'Test Score = {testscore}')\n",
    "        print (f'Cross Val Score = {crossval}')\n",
    "        print (f'RMSE Train = {rmsetr}')\n",
    "        print (f'RMSE Test = {rmsete}')\n",
    "        print('')\n",
    "        print('')"
   ]
  },
  {
   "cell_type": "code",
   "execution_count": 136,
   "id": "6ec9a310-7625-4f14-805d-0027d49ace86",
   "metadata": {},
   "outputs": [
    {
     "name": "stdout",
     "output_type": "stream",
     "text": [
      "LINEAR REGRESSION\n",
      "Model = Pipeline(steps=[('LR', LinearRegression())])\n",
      "Train Score = 0.6885725272796499\n",
      "Test Score = 0.6126560653309894\n",
      "Cross Val Score = 0.5473284992955734\n",
      "RMSE Train = 194509556.6107299\n",
      "RMSE Test = 242770358.1038976\n",
      "\n",
      "\n",
      "DECISION TREE\n",
      "Model = Pipeline(steps=[('TREE', DecisionTreeRegressor())])\n",
      "Train Score = 1.0\n",
      "Test Score = 0.7700046471005294\n",
      "Cross Val Score = 0.14519574470768437\n",
      "RMSE Train = 0.0\n",
      "RMSE Test = 187071147.21656126\n",
      "\n",
      "\n",
      "BAGGED TREE\n",
      "Model = Pipeline(steps=[('BAG', BaggingRegressor())])\n",
      "Train Score = 0.9095728240008082\n",
      "Test Score = 0.7284024506166735\n",
      "Cross Val Score = 0.4907877391645905\n",
      "RMSE Train = 104812231.46802893\n",
      "RMSE Test = 203287278.83349523\n",
      "\n",
      "\n",
      "RANDOM FOREST\n",
      "Model = Pipeline(steps=[('RAND', RandomForestRegressor())])\n",
      "Train Score = 0.931013999081614\n",
      "Test Score = 0.6445500892698575\n",
      "Cross Val Score = 0.5166706535923009\n",
      "RMSE Train = 91546757.81259257\n",
      "RMSE Test = 232560784.49395558\n",
      "\n",
      "\n",
      "ADABOOST\n",
      "Model = Pipeline(steps=[('ADA', AdaBoostRegressor())])\n",
      "Train Score = 0.8010722083214796\n",
      "Test Score = 0.649722765428592\n",
      "Cross Val Score = 0.5062315272260218\n",
      "RMSE Train = 155456975.46337506\n",
      "RMSE Test = 230862415.40791583\n",
      "\n",
      "\n",
      "KNN\n",
      "Model = Pipeline(steps=[('sc', StandardScaler()), ('KNN', KNeighborsRegressor())])\n",
      "Train Score = 0.6651546566919115\n",
      "Test Score = 0.2938492640020338\n",
      "Cross Val Score = 0.4919156242533186\n",
      "RMSE Train = 201690115.6284802\n",
      "RMSE Test = 327790216.46627635\n",
      "\n",
      "\n",
      "LASSO\n",
      "Model = Pipeline(steps=[('sc', StandardScaler()), ('LASSO', LassoCV())])\n",
      "Train Score = 0.6537280664131109\n",
      "Test Score = 0.591581700364431\n",
      "Cross Val Score = 0.5886756140371118\n",
      "RMSE Train = 205102582.72490564\n",
      "RMSE Test = 249287140.21618637\n",
      "\n",
      "\n",
      "RIDGE\n",
      "Model = Pipeline(steps=[('sc', StandardScaler()),\n",
      "                ('RIDGE', RidgeCV(alphas=array([ 0.1,  1. , 10. ])))])\n",
      "Train Score = 0.6866101208277953\n",
      "Test Score = 0.6031727908350342\n",
      "Cross Val Score = 0.5628399917885234\n",
      "RMSE Train = 195121428.41788775\n",
      "RMSE Test = 245724239.91148177\n",
      "\n",
      "\n"
     ]
    }
   ],
   "source": [
    "modelfunc(X, y)"
   ]
  },
  {
   "cell_type": "markdown",
   "id": "2f4dbe38-9b5b-48fd-872d-88f557cbf435",
   "metadata": {},
   "source": [
    "### 12.05 Test and Tune\n"
   ]
  },
  {
   "cell_type": "markdown",
   "id": "09eab582-0793-415e-8aae-a3de34317fb5",
   "metadata": {},
   "source": [
    "Lasso performed the best according to the function above. Let's tune."
   ]
  },
  {
   "cell_type": "code",
   "execution_count": 145,
   "id": "474dae18-c44f-4d8f-ab3c-0cdb22bb3cc1",
   "metadata": {},
   "outputs": [
    {
     "name": "stdout",
     "output_type": "stream",
     "text": [
      "Fitting 5 folds for each of 89991 candidates, totalling 449955 fits\n",
      "0.5473286281458967\n",
      "{'alpha': 9.998999999999999, 'max_iter': 1000, 'tol': 0.01}\n"
     ]
    }
   ],
   "source": [
    "X_train, X_test, y_train, y_test = train_test_split(X, y, random_state = 42) \n",
    "scoring_func = metrics.make_scorer(mean_squared_error)\n",
    "\n",
    "# lss = Lasso()\n",
    "# rand.fit(X_train, y_train)\n",
    "sc = StandardScaler()\n",
    "X_train_sc = sc.fit_transform(X_train)\n",
    "X_test_sc = sc.transform (X_test)\n",
    "\n",
    "params = {\n",
    "    'alpha':np.arange(0.001,10,0.001),\n",
    "    'max_iter':np.arange(1000,10000,1000),\n",
    "    'tol':[1e-2]       # Not 100% sure what this does but got it from StackOverflow and it cleared up the convergance warnings.\n",
    "    #[0.0001, 0.01, 0.02, 0.05, 0.2, 0.2, 0.5, 1 , 5, 10, 100]  Rather than us guessing, and since we don't have that much data, we're going feed it a range of alphas\n",
    "}\n",
    "gs = GridSearchCV(Lasso(), \n",
    "                 param_grid = params, \n",
    "                 verbose = 1)\n",
    "\n",
    "gs.fit(X_train_sc, y_train)\n",
    "print(gs.best_score_)\n",
    "print(gs.best_params_)"
   ]
  },
  {
   "cell_type": "code",
   "execution_count": 148,
   "id": "cc3702db-c6ce-46e6-99e4-71f4e23cfb5b",
   "metadata": {},
   "outputs": [
    {
     "name": "stdout",
     "output_type": "stream",
     "text": [
      "Fitting 5 folds for each of 1 candidates, totalling 5 fits\n",
      "0.547328512364005\n",
      "{}\n"
     ]
    },
    {
     "name": "stderr",
     "output_type": "stream",
     "text": [
      "C:\\Users\\benro\\anaconda3\\lib\\site-packages\\sklearn\\linear_model\\_coordinate_descent.py:530: ConvergenceWarning: Objective did not converge. You might want to increase the number of iterations. Duality gap: 3.4918266937312256e+16, tolerance: 2188867898131273.5\n",
      "  model = cd_fast.enet_coordinate_descent(\n",
      "C:\\Users\\benro\\anaconda3\\lib\\site-packages\\sklearn\\linear_model\\_coordinate_descent.py:530: ConvergenceWarning: Objective did not converge. You might want to increase the number of iterations. Duality gap: 4.125058192059392e+16, tolerance: 2166146908964038.8\n",
      "  model = cd_fast.enet_coordinate_descent(\n",
      "C:\\Users\\benro\\anaconda3\\lib\\site-packages\\sklearn\\linear_model\\_coordinate_descent.py:530: ConvergenceWarning: Objective did not converge. You might want to increase the number of iterations. Duality gap: 4.061040829323059e+16, tolerance: 2246769570915603.8\n",
      "  model = cd_fast.enet_coordinate_descent(\n",
      "C:\\Users\\benro\\anaconda3\\lib\\site-packages\\sklearn\\linear_model\\_coordinate_descent.py:530: ConvergenceWarning: Objective did not converge. You might want to increase the number of iterations. Duality gap: 5.008562348660122e+16, tolerance: 2769872722015046.0\n",
      "  model = cd_fast.enet_coordinate_descent(\n"
     ]
    }
   ],
   "source": [
    "X_train, X_test, y_train, y_test = train_test_split(X, y, random_state = 42) \n",
    "\n",
    "\n",
    "sc = StandardScaler()\n",
    "X_train_sc = sc.fit_transform(X_train)\n",
    "X_test_sc = sc.transform (X_test)\n",
    "\n",
    "params = {\n",
    "    \n",
    "}\n",
    "gs = GridSearchCV(Lasso(), \n",
    "                 param_grid = params, \n",
    "                 verbose = 1)\n",
    "\n",
    "gs.fit(X_train_sc, y_train)\n",
    "print(gs.best_score_)\n",
    "print(gs.best_params_)"
   ]
  },
  {
   "cell_type": "code",
   "execution_count": 79,
   "id": "d3595c6e-4cf3-4387-894c-913fd58e0374",
   "metadata": {},
   "outputs": [],
   "source": [
    "### RIDGE didn't perform as well once we numvotes and worldwide revenue.  We won't know these items at the time of release\n",
    "\n",
    "# X_train, X_test, y_train, y_test = train_test_split(X, y, random_state = 42) \n",
    "# scoring_func = metrics.make_scorer(mean_squared_error)\n",
    "\n",
    "# rdg = Ridge()\n",
    "# # rand.fit(X_train, y_train)\n",
    "\n",
    "# params = {\n",
    "#     'alpha': [0, 0.2, 0.01, 1, 5, 10]  \n",
    "# }\n",
    "# gs = GridSearchCV(Ridge(), \n",
    "#                  param_grid = params, \n",
    "#                  verbose = 1)\n",
    "\n",
    "# gs.fit(X_train, y_train)\n",
    "# print(gs.best_score_)\n",
    "# print(gs.best_params_)"
   ]
  },
  {
   "cell_type": "markdown",
   "id": "5ed0fd7b-f835-4e7b-acde-2a99857b40e7",
   "metadata": {},
   "source": [
    "### 12.06 Final Model and Evaluation\n"
   ]
  },
  {
   "cell_type": "code",
   "execution_count": 149,
   "id": "6529507c-8fd4-4391-8320-036b87245da9",
   "metadata": {},
   "outputs": [
    {
     "name": "stdout",
     "output_type": "stream",
     "text": [
      "Train Score = 0.6885725272796499\n",
      "Test Score = 0.612656065281655\n",
      "Cross Val Score = 0.5473284992496843\n",
      "RMSE Train = 194509556.61072993\n",
      "RMSE Test = 242770358.1193579\n"
     ]
    },
    {
     "name": "stderr",
     "output_type": "stream",
     "text": [
      "C:\\Users\\benro\\anaconda3\\lib\\site-packages\\sklearn\\linear_model\\_coordinate_descent.py:530: ConvergenceWarning: Objective did not converge. You might want to increase the number of iterations. Duality gap: 5.008562324374221e+16, tolerance: 2769872722015046.0\n",
      "  model = cd_fast.enet_coordinate_descent(\n",
      "C:\\Users\\benro\\anaconda3\\lib\\site-packages\\sklearn\\linear_model\\_coordinate_descent.py:530: ConvergenceWarning: Objective did not converge. You might want to increase the number of iterations. Duality gap: 3.49182993523456e+16, tolerance: 2188867898131273.5\n",
      "  model = cd_fast.enet_coordinate_descent(\n",
      "C:\\Users\\benro\\anaconda3\\lib\\site-packages\\sklearn\\linear_model\\_coordinate_descent.py:530: ConvergenceWarning: Objective did not converge. You might want to increase the number of iterations. Duality gap: 4.125070115903898e+16, tolerance: 2166146908964038.8\n",
      "  model = cd_fast.enet_coordinate_descent(\n",
      "C:\\Users\\benro\\anaconda3\\lib\\site-packages\\sklearn\\linear_model\\_coordinate_descent.py:530: ConvergenceWarning: Objective did not converge. You might want to increase the number of iterations. Duality gap: 4.061044567315456e+16, tolerance: 2246769570915603.8\n",
      "  model = cd_fast.enet_coordinate_descent(\n"
     ]
    }
   ],
   "source": [
    "X_train, X_test, y_train, y_test = train_test_split(X, y, random_state = 42) \n",
    "sc = StandardScaler()\n",
    "X_train_sc = sc.fit_transform(X_train)\n",
    "X_test_sc = sc.transform (X_test)\n",
    "\n",
    "lss = Lasso()\n",
    "\n",
    "lss.fit(X_train_sc, y_train)\n",
    "y_pred_train = lss.predict(X_train_sc)\n",
    "y_pred_test = lss.predict(X_test_sc)\n",
    "trainscore = lss.score(X_train_sc, y_train)\n",
    "testscore = lss.score(X_test_sc, y_test)\n",
    "crossval = cross_val_score(lss, X_train_sc, y_train).mean()\n",
    "rmsetr= np.sqrt(metrics.mean_squared_error(y_train, y_pred_train))\n",
    "rmsete = np.sqrt(metrics.mean_squared_error(y_test, y_pred_test))\n",
    "\n",
    "print (f'Train Score = {trainscore}')\n",
    "print (f'Test Score = {testscore}')\n",
    "print (f'Cross Val Score = {crossval}')\n",
    "print (f'RMSE Train = {rmsetr}')\n",
    "print (f'RMSE Test = {rmsete}')"
   ]
  },
  {
   "cell_type": "code",
   "execution_count": null,
   "id": "756eabcd-7647-49d7-b7a1-f15fadfd4c07",
   "metadata": {},
   "outputs": [],
   "source": []
  },
  {
   "cell_type": "code",
   "execution_count": null,
   "id": "b10f6275-508b-48b1-ad28-0347e3e2d24d",
   "metadata": {},
   "outputs": [],
   "source": []
  }
 ],
 "metadata": {
  "kernelspec": {
   "display_name": "Python 3 (ipykernel)",
   "language": "python",
   "name": "python3"
  },
  "language_info": {
   "codemirror_mode": {
    "name": "ipython",
    "version": 3
   },
   "file_extension": ".py",
   "mimetype": "text/x-python",
   "name": "python",
   "nbconvert_exporter": "python",
   "pygments_lexer": "ipython3",
   "version": "3.9.7"
  }
 },
 "nbformat": 4,
 "nbformat_minor": 5
}
