{
 "cells": [
  {
   "cell_type": "markdown",
   "id": "e20b188a-8d94-409b-92e3-35f4960b0338",
   "metadata": {},
   "source": [
    "# 13 Modeling for ROI\n"
   ]
  },
  {
   "cell_type": "code",
   "execution_count": null,
   "id": "66420730-4bd2-4a93-bdcb-6bf3e37fed7c",
   "metadata": {},
   "outputs": [],
   "source": []
  },
  {
   "cell_type": "markdown",
   "id": "fd0b64c7-087a-4c89-adc4-e93c5edcaf6c",
   "metadata": {},
   "source": [
    "## 13.01 Imports\n"
   ]
  },
  {
   "cell_type": "markdown",
   "id": "36f25ff5-6f1b-48db-8d25-d12495b8ccbd",
   "metadata": {},
   "source": [
    "### 13.01.01 Python Imports"
   ]
  },
  {
   "cell_type": "code",
   "execution_count": 24,
   "id": "419810e8-8dce-4c82-a7c1-32c537894e69",
   "metadata": {},
   "outputs": [],
   "source": [
    "import pandas as pd\n",
    "import numpy as np\n",
    "import matplotlib.pyplot as plt\n",
    "import seaborn as sns\n",
    "import sklearn.metrics as metrics\n",
    "from sklearn.metrics import mean_squared_error, make_scorer\n",
    "\n",
    "from sklearn.model_selection import train_test_split, cross_val_score, GridSearchCV, RandomizedSearchCV\n",
    "\n",
    "from sklearn.pipeline import Pipeline\n",
    "from sklearn.neighbors import KNeighborsRegressor\n",
    "from sklearn.preprocessing import StandardScaler, PolynomialFeatures\n",
    "\n",
    "from sklearn.linear_model import LinearRegression, Lasso, LassoCV, Ridge, RidgeCV\n",
    "from sklearn.ensemble import AdaBoostRegressor, RandomForestRegressor, BaggingRegressor\n",
    "from sklearn.tree import DecisionTreeRegressor\n",
    "from sklearn.decomposition import PCA"
   ]
  },
  {
   "cell_type": "markdown",
   "id": "104eca19-d27b-4542-9c9b-98265a172167",
   "metadata": {},
   "source": [
    "### 13.01.02 Feature Film Import\n"
   ]
  },
  {
   "cell_type": "markdown",
   "id": "b22ba832-8ace-46b8-94b0-6b2c9c29f2d8",
   "metadata": {},
   "source": [
    "Read in Data"
   ]
  },
  {
   "cell_type": "code",
   "execution_count": 25,
   "id": "0ab4b932-d56c-4c58-ba61-4ddb8e7075d3",
   "metadata": {},
   "outputs": [],
   "source": [
    "df = pd.read_csv('../Bens_Data/Disney_Films_For_Visual.csv')\n",
    "df.drop(columns=['Unnamed: 0','index'], inplace=True)"
   ]
  },
  {
   "cell_type": "markdown",
   "id": "26b4e6d8-248a-4fff-a517-f55e56d796fd",
   "metadata": {},
   "source": [
    "### 13.02 Determine and Create Features List"
   ]
  },
  {
   "cell_type": "code",
   "execution_count": 26,
   "id": "bc84b5eb-94d1-40fb-9e0b-69a6f52f2c45",
   "metadata": {},
   "outputs": [
    {
     "data": {
      "text/plain": [
       "Index(['DFL_title', 'tconst', 'titleType', 'primaryTitle', 'startYear',\n",
       "       'runtimeMinutes', 'genres', 'averageRating', 'numVotes', 'newurl',\n",
       "       'mpaarating', 'rlsdt', 'budget', 'worldwide', 'DIR_COUNT', 'DIR_AGE',\n",
       "       'DIR_RTG', 'DIR_FILM_COUNT', 'WTR_COUNT', 'WTR_AGE', 'WTR_FILM_COUNT',\n",
       "       'action', 'adventure', 'animation', 'biography', 'comedy', 'crime',\n",
       "       'documentary', 'drama', 'family', 'fantasy', 'fi', 'history', 'horror',\n",
       "       'music', 'musical', 'mystery', 'news', 'romance', 'sci', 'sport',\n",
       "       'thriller', 'western', 'newmpaarating_G', 'newmpaarating_Not Rated',\n",
       "       'newmpaarating_PG', 'newmpaarating_PG-13', 'budget_adj',\n",
       "       'worldwide_adj', 'ROI', 'rlsdt_dt', 'rlsdt_mo', 'rlsdt_day',\n",
       "       'rlsdt_daynm', 'rlsdt_dayofwk', 'rlsdt_season', 'rlsdt_season_NM'],\n",
       "      dtype='object')"
      ]
     },
     "execution_count": 26,
     "metadata": {},
     "output_type": "execute_result"
    }
   ],
   "source": [
    "df.columns"
   ]
  },
  {
   "cell_type": "code",
   "execution_count": 27,
   "id": "f100cc24-85f1-450c-bf35-f9f11600ca2b",
   "metadata": {},
   "outputs": [],
   "source": [
    "features = [ 'startYear',\n",
    "       'runtimeMinutes', \n",
    "        #'averageRating', \n",
    "        #'numVotes', \n",
    "       'DIR_COUNT', 'DIR_AGE',\n",
    "       'DIR_RTG', 'DIR_FILM_COUNT', 'WTR_COUNT', 'WTR_AGE', \n",
    "       'WTR_FILM_COUNT','action', 'adventure', 'animation', \n",
    "       'biography', 'comedy', 'crime','documentary', 'drama', \n",
    "       'family', 'fantasy', 'fi', 'history', 'horror','music', \n",
    "       'musical', 'mystery', 'news', 'romance', 'sci', 'sport',\n",
    "       'thriller', 'western', 'newmpaarating_G', 'newmpaarating_Not Rated',\n",
    "       'newmpaarating_PG', 'newmpaarating_PG-13', 'budget_adj',\n",
    "       #'worldwide_adj', \n",
    "       #'ROI', \n",
    "       'rlsdt_mo', 'rlsdt_day',\n",
    "       'rlsdt_dayofwk', 'rlsdt_season']"
   ]
  },
  {
   "cell_type": "code",
   "execution_count": 28,
   "id": "802f4b85-1447-4337-bf8e-b94df7b907fa",
   "metadata": {},
   "outputs": [
    {
     "data": {
      "text/html": [
       "<div>\n",
       "<style scoped>\n",
       "    .dataframe tbody tr th:only-of-type {\n",
       "        vertical-align: middle;\n",
       "    }\n",
       "\n",
       "    .dataframe tbody tr th {\n",
       "        vertical-align: top;\n",
       "    }\n",
       "\n",
       "    .dataframe thead th {\n",
       "        text-align: right;\n",
       "    }\n",
       "</style>\n",
       "<table border=\"1\" class=\"dataframe\">\n",
       "  <thead>\n",
       "    <tr style=\"text-align: right;\">\n",
       "      <th></th>\n",
       "      <th>DFL_title</th>\n",
       "      <th>tconst</th>\n",
       "      <th>titleType</th>\n",
       "      <th>primaryTitle</th>\n",
       "      <th>startYear</th>\n",
       "      <th>runtimeMinutes</th>\n",
       "      <th>genres</th>\n",
       "      <th>averageRating</th>\n",
       "      <th>numVotes</th>\n",
       "      <th>newurl</th>\n",
       "      <th>...</th>\n",
       "      <th>budget_adj</th>\n",
       "      <th>worldwide_adj</th>\n",
       "      <th>ROI</th>\n",
       "      <th>rlsdt_dt</th>\n",
       "      <th>rlsdt_mo</th>\n",
       "      <th>rlsdt_day</th>\n",
       "      <th>rlsdt_daynm</th>\n",
       "      <th>rlsdt_dayofwk</th>\n",
       "      <th>rlsdt_season</th>\n",
       "      <th>rlsdt_season_NM</th>\n",
       "    </tr>\n",
       "  </thead>\n",
       "  <tbody>\n",
       "    <tr>\n",
       "      <th>0</th>\n",
       "      <td>101 Dalmatians</td>\n",
       "      <td>tt0115433</td>\n",
       "      <td>movie</td>\n",
       "      <td>101 Dalmatians</td>\n",
       "      <td>1996</td>\n",
       "      <td>103</td>\n",
       "      <td>Adventure,Comedy,Crime</td>\n",
       "      <td>5.7</td>\n",
       "      <td>109712.0</td>\n",
       "      <td>https://www.imdb.com/title/tt0115433</td>\n",
       "      <td>...</td>\n",
       "      <td>75000000</td>\n",
       "      <td>320689294</td>\n",
       "      <td>3.275857</td>\n",
       "      <td>1996-11-27</td>\n",
       "      <td>11.0</td>\n",
       "      <td>27.0</td>\n",
       "      <td>Wednesday</td>\n",
       "      <td>4.0</td>\n",
       "      <td>3.0</td>\n",
       "      <td>Fall</td>\n",
       "    </tr>\n",
       "    <tr>\n",
       "      <th>1</th>\n",
       "      <td>102 Dalmatians</td>\n",
       "      <td>tt0211181</td>\n",
       "      <td>movie</td>\n",
       "      <td>102 Dalmatians</td>\n",
       "      <td>2000</td>\n",
       "      <td>100</td>\n",
       "      <td>Adventure,Comedy,Family</td>\n",
       "      <td>4.8</td>\n",
       "      <td>37056.0</td>\n",
       "      <td>https://www.imdb.com/title/tt0211181</td>\n",
       "      <td>...</td>\n",
       "      <td>85000000</td>\n",
       "      <td>183611771</td>\n",
       "      <td>1.160138</td>\n",
       "      <td>2000-11-22</td>\n",
       "      <td>11.0</td>\n",
       "      <td>22.0</td>\n",
       "      <td>Wednesday</td>\n",
       "      <td>4.0</td>\n",
       "      <td>3.0</td>\n",
       "      <td>Fall</td>\n",
       "    </tr>\n",
       "    <tr>\n",
       "      <th>2</th>\n",
       "      <td>20,000 Leagues Under the Sea</td>\n",
       "      <td>tt0046672</td>\n",
       "      <td>movie</td>\n",
       "      <td>20,000 Leagues Under the Sea</td>\n",
       "      <td>1954</td>\n",
       "      <td>127</td>\n",
       "      <td>Adventure,Drama,Family</td>\n",
       "      <td>7.2</td>\n",
       "      <td>33109.0</td>\n",
       "      <td>https://www.imdb.com/title/tt0046672</td>\n",
       "      <td>...</td>\n",
       "      <td>9000000</td>\n",
       "      <td>0</td>\n",
       "      <td>-1.000000</td>\n",
       "      <td>1955-07-20</td>\n",
       "      <td>7.0</td>\n",
       "      <td>20.0</td>\n",
       "      <td>Wednesday</td>\n",
       "      <td>4.0</td>\n",
       "      <td>2.0</td>\n",
       "      <td>Summer</td>\n",
       "    </tr>\n",
       "    <tr>\n",
       "      <th>3</th>\n",
       "      <td>A Bug's Life</td>\n",
       "      <td>tt0120623</td>\n",
       "      <td>movie</td>\n",
       "      <td>A Bug's Life</td>\n",
       "      <td>1998</td>\n",
       "      <td>95</td>\n",
       "      <td>Adventure,Animation,Comedy</td>\n",
       "      <td>7.2</td>\n",
       "      <td>284538.0</td>\n",
       "      <td>https://www.imdb.com/title/tt0120623</td>\n",
       "      <td>...</td>\n",
       "      <td>120000000</td>\n",
       "      <td>363258859</td>\n",
       "      <td>2.027157</td>\n",
       "      <td>1998-11-25</td>\n",
       "      <td>11.0</td>\n",
       "      <td>25.0</td>\n",
       "      <td>Wednesday</td>\n",
       "      <td>4.0</td>\n",
       "      <td>3.0</td>\n",
       "      <td>Fall</td>\n",
       "    </tr>\n",
       "    <tr>\n",
       "      <th>4</th>\n",
       "      <td>A Christmas Carol</td>\n",
       "      <td>tt1067106</td>\n",
       "      <td>movie</td>\n",
       "      <td>A Christmas Carol</td>\n",
       "      <td>2009</td>\n",
       "      <td>96</td>\n",
       "      <td>Adventure,Animation,Comedy</td>\n",
       "      <td>6.8</td>\n",
       "      <td>112582.0</td>\n",
       "      <td>https://www.imdb.com/title/tt1067106</td>\n",
       "      <td>...</td>\n",
       "      <td>200000000</td>\n",
       "      <td>325286646</td>\n",
       "      <td>0.626433</td>\n",
       "      <td>2009-11-06</td>\n",
       "      <td>11.0</td>\n",
       "      <td>6.0</td>\n",
       "      <td>Friday</td>\n",
       "      <td>6.0</td>\n",
       "      <td>3.0</td>\n",
       "      <td>Fall</td>\n",
       "    </tr>\n",
       "  </tbody>\n",
       "</table>\n",
       "<p>5 rows × 57 columns</p>\n",
       "</div>"
      ],
      "text/plain": [
       "                      DFL_title     tconst titleType  \\\n",
       "0                101 Dalmatians  tt0115433     movie   \n",
       "1                102 Dalmatians  tt0211181     movie   \n",
       "2  20,000 Leagues Under the Sea  tt0046672     movie   \n",
       "3                  A Bug's Life  tt0120623     movie   \n",
       "4             A Christmas Carol  tt1067106     movie   \n",
       "\n",
       "                   primaryTitle  startYear  runtimeMinutes  \\\n",
       "0                101 Dalmatians       1996             103   \n",
       "1                102 Dalmatians       2000             100   \n",
       "2  20,000 Leagues Under the Sea       1954             127   \n",
       "3                  A Bug's Life       1998              95   \n",
       "4             A Christmas Carol       2009              96   \n",
       "\n",
       "                       genres  averageRating  numVotes  \\\n",
       "0      Adventure,Comedy,Crime            5.7  109712.0   \n",
       "1     Adventure,Comedy,Family            4.8   37056.0   \n",
       "2      Adventure,Drama,Family            7.2   33109.0   \n",
       "3  Adventure,Animation,Comedy            7.2  284538.0   \n",
       "4  Adventure,Animation,Comedy            6.8  112582.0   \n",
       "\n",
       "                                 newurl  ... budget_adj worldwide_adj  \\\n",
       "0  https://www.imdb.com/title/tt0115433  ...   75000000     320689294   \n",
       "1  https://www.imdb.com/title/tt0211181  ...   85000000     183611771   \n",
       "2  https://www.imdb.com/title/tt0046672  ...    9000000             0   \n",
       "3  https://www.imdb.com/title/tt0120623  ...  120000000     363258859   \n",
       "4  https://www.imdb.com/title/tt1067106  ...  200000000     325286646   \n",
       "\n",
       "        ROI    rlsdt_dt  rlsdt_mo  rlsdt_day  rlsdt_daynm  rlsdt_dayofwk  \\\n",
       "0  3.275857  1996-11-27      11.0       27.0    Wednesday            4.0   \n",
       "1  1.160138  2000-11-22      11.0       22.0    Wednesday            4.0   \n",
       "2 -1.000000  1955-07-20       7.0       20.0    Wednesday            4.0   \n",
       "3  2.027157  1998-11-25      11.0       25.0    Wednesday            4.0   \n",
       "4  0.626433  2009-11-06      11.0        6.0       Friday            6.0   \n",
       "\n",
       "   rlsdt_season  rlsdt_season_NM  \n",
       "0           3.0             Fall  \n",
       "1           3.0             Fall  \n",
       "2           2.0           Summer  \n",
       "3           3.0             Fall  \n",
       "4           3.0             Fall  \n",
       "\n",
       "[5 rows x 57 columns]"
      ]
     },
     "execution_count": 28,
     "metadata": {},
     "output_type": "execute_result"
    }
   ],
   "source": [
    "df.head()"
   ]
  },
  {
   "cell_type": "markdown",
   "id": "81c678c3-9df1-487f-9eb9-1bed15fc0d0e",
   "metadata": {},
   "source": [
    "### 13.03 Null Model\n"
   ]
  },
  {
   "cell_type": "code",
   "execution_count": 29,
   "id": "a4fcf466-252b-46e6-bce0-807ff1a8f400",
   "metadata": {},
   "outputs": [
    {
     "data": {
      "text/plain": [
       "174"
      ]
     },
     "execution_count": 29,
     "metadata": {},
     "output_type": "execute_result"
    }
   ],
   "source": [
    "df['ROI'].isnull().sum()"
   ]
  },
  {
   "cell_type": "code",
   "execution_count": 30,
   "id": "c045216f-7153-4fc5-ae84-8c40eb50e180",
   "metadata": {},
   "outputs": [
    {
     "data": {
      "text/plain": [
       "(3.4220782381303145, -1.0, 122.36590126751167)"
      ]
     },
     "execution_count": 30,
     "metadata": {},
     "output_type": "execute_result"
    }
   ],
   "source": [
    "df['ROI'].mean(), df['ROI'].min(), df['ROI'].max()"
   ]
  },
  {
   "cell_type": "code",
   "execution_count": 31,
   "id": "3fa339dd-bf04-485e-bc1c-4be056ecce91",
   "metadata": {},
   "outputs": [
    {
     "data": {
      "text/plain": [
       "(431, 57)"
      ]
     },
     "execution_count": 31,
     "metadata": {},
     "output_type": "execute_result"
    }
   ],
   "source": [
    "df.shape"
   ]
  },
  {
   "cell_type": "code",
   "execution_count": 32,
   "id": "460909ac-7293-4fec-8187-3372861ac1d4",
   "metadata": {},
   "outputs": [
    {
     "data": {
      "text/plain": [
       "(257, 57)"
      ]
     },
     "execution_count": 32,
     "metadata": {},
     "output_type": "execute_result"
    }
   ],
   "source": [
    "df = df[df['ROI'].notnull()]\n",
    "df.shape"
   ]
  },
  {
   "cell_type": "code",
   "execution_count": 33,
   "id": "c19fc195-b02c-49b0-8813-2f18e23aa36f",
   "metadata": {},
   "outputs": [
    {
     "data": {
      "text/plain": [
       "<AxesSubplot:>"
      ]
     },
     "execution_count": 33,
     "metadata": {},
     "output_type": "execute_result"
    },
    {
     "data": {
      "image/png": "[encoded data removed]",
      "text/plain": [
       "<Figure size 432x288 with 1 Axes>"
      ]
     },
     "metadata": {
      "needs_background": "light"
     },
     "output_type": "display_data"
    }
   ],
   "source": [
    "df['ROI'].hist()"
   ]
  },
  {
   "cell_type": "code",
   "execution_count": 34,
   "id": "29792270-c9a3-41a6-a114-7c5e62a47eac",
   "metadata": {},
   "outputs": [
    {
     "data": {
      "text/plain": [
       "9.146536077257574"
      ]
     },
     "execution_count": 34,
     "metadata": {},
     "output_type": "execute_result"
    }
   ],
   "source": [
    "df['base'] = df['ROI'].mean()\n",
    "RMSE = np.sqrt(metrics.mean_squared_error(df['ROI'], df['base']))\n",
    "RMSE"
   ]
  },
  {
   "cell_type": "markdown",
   "id": "abe77034-6c0c-4cb8-b49f-6e6192d748ca",
   "metadata": {},
   "source": [
    "The Baseline model has a Root Mean Squared Error of 9.14%. On average the predicted IMDB Rating is about 9.14% off from the true average rating."
   ]
  },
  {
   "cell_type": "markdown",
   "id": "21a02204-2307-4e25-98a4-52a5b657350b",
   "metadata": {},
   "source": [
    "### 13.04 Pipeline"
   ]
  },
  {
   "cell_type": "code",
   "execution_count": 35,
   "id": "c5d39285-2846-448a-bf0f-dbb353a7e61b",
   "metadata": {},
   "outputs": [],
   "source": [
    "X = df[features]\n",
    "y = df['ROI']"
   ]
  },
  {
   "cell_type": "code",
   "execution_count": 36,
   "id": "05672b7e-ce43-435e-b455-242e9a9acd18",
   "metadata": {},
   "outputs": [],
   "source": [
    "def modelfunc(X, y):\n",
    "    pipelines = [\n",
    "        ('LINEAR REGRESSION', (Pipeline([ ('LR', LinearRegression())]))),\n",
    "        ('DECISION TREE', (Pipeline([ ('TREE', DecisionTreeRegressor())]))),\n",
    "        ('BAGGED TREE', (Pipeline([ ('BAG', BaggingRegressor())]))),\n",
    "        ('RANDOM FOREST', (Pipeline([ ('RAND', RandomForestRegressor())]))),\n",
    "        ('ADABOOST', (Pipeline([ ('ADA', AdaBoostRegressor())]))),\n",
    "        ('KNN', (Pipeline([ ('sc', StandardScaler()),('KNN', KNeighborsRegressor())]))),\n",
    "        ('LASSO',(Pipeline([ ('sc', StandardScaler()),('LASSO', LassoCV())]))),\n",
    "        ('RIDGE',(Pipeline([ ('sc', StandardScaler()),('RIDGE', RidgeCV())])))\n",
    "    ]\n",
    "    X_train, X_test, y_train, y_test = train_test_split(X, y, random_state = 42) \n",
    "    for pipe_name ,model in pipelines:\n",
    "        print(pipe_name)\n",
    "        model.fit(X_train, y_train)\n",
    "        y_pred_train = model.predict(X_train)\n",
    "        y_pred_test = model.predict(X_test)\n",
    "        trainscore = model.score(X_train, y_train)\n",
    "        testscore = model.score(X_test, y_test)\n",
    "        crossval = cross_val_score(model, X_train, y_train).mean()\n",
    "        rmsetr= np.sqrt(metrics.mean_squared_error(y_train, y_pred_train))\n",
    "        rmsete = np.sqrt(metrics.mean_squared_error(y_test, y_pred_test))\n",
    "        print (f'Model = {model}')\n",
    "        print (f'Train Score = {trainscore}')\n",
    "        print (f'Test Score = {testscore}')\n",
    "        print (f'Cross Val Score = {crossval}')\n",
    "        print (f'RMSE Train = {rmsetr}')\n",
    "        print (f'RMSE Test = {rmsete}')\n",
    "        print('')\n",
    "        print('')"
   ]
  },
  {
   "cell_type": "code",
   "execution_count": 37,
   "id": "6ec9a310-7625-4f14-805d-0027d49ace86",
   "metadata": {},
   "outputs": [
    {
     "name": "stdout",
     "output_type": "stream",
     "text": [
      "LINEAR REGRESSION\n",
      "Model = Pipeline(steps=[('LR', LinearRegression())])\n",
      "Train Score = 0.4050960303179505\n",
      "Test Score = -0.2158192480975447\n",
      "Cross Val Score = -5.408454302840425\n",
      "RMSE Train = 7.541058901157588\n",
      "RMSE Test = 7.6115938677866355\n",
      "\n",
      "\n",
      "DECISION TREE\n",
      "Model = Pipeline(steps=[('TREE', DecisionTreeRegressor())])\n",
      "Train Score = 1.0\n",
      "Test Score = -0.48623422682745465\n",
      "Cross Val Score = -5.016188852991029\n",
      "RMSE Train = 0.0\n",
      "RMSE Test = 8.415593113132118\n",
      "\n",
      "\n",
      "BAGGED TREE\n",
      "Model = Pipeline(steps=[('BAG', BaggingRegressor())])\n",
      "Train Score = 0.7536706663129974\n",
      "Test Score = 0.047170478831189744\n",
      "Cross Val Score = -4.174920167212475\n",
      "RMSE Train = 4.852515882821549\n",
      "RMSE Test = 6.738274552059963\n",
      "\n",
      "\n",
      "RANDOM FOREST\n",
      "Model = Pipeline(steps=[('RAND', RandomForestRegressor())])\n",
      "Train Score = 0.8807726285864695\n",
      "Test Score = -0.7016505630851413\n",
      "Cross Val Score = -1.6972628843317974\n",
      "RMSE Train = 3.3759568274581038\n",
      "RMSE Test = 9.004846024829757\n",
      "\n",
      "\n",
      "ADABOOST\n",
      "Model = Pipeline(steps=[('ADA', AdaBoostRegressor())])\n",
      "Train Score = 0.9160736910610269\n",
      "Test Score = 0.14513642309262265\n",
      "Cross Val Score = -2.057768501598123\n",
      "RMSE Train = 2.8324220143701617\n",
      "RMSE Test = 6.3824806532521885\n",
      "\n",
      "\n",
      "KNN\n",
      "Model = Pipeline(steps=[('sc', StandardScaler()), ('KNN', KNeighborsRegressor())])\n",
      "Train Score = 0.4291287907454061\n",
      "Test Score = -0.2503644348998988\n",
      "Cross Val Score = -2.4154700689265485\n",
      "RMSE Train = 7.387167897642296\n",
      "RMSE Test = 7.718970947969328\n",
      "\n",
      "\n",
      "LASSO\n",
      "Model = Pipeline(steps=[('sc', StandardScaler()), ('LASSO', LassoCV())])\n",
      "Train Score = 0.1199955294507008\n",
      "Test Score = 0.18313859382502817\n",
      "Cross Val Score = -0.35473585084486003\n",
      "RMSE Train = 9.171731633808646\n",
      "RMSE Test = 6.239004359555409\n",
      "\n",
      "\n",
      "RIDGE\n",
      "Model = Pipeline(steps=[('sc', StandardScaler()),\n",
      "                ('RIDGE', RidgeCV(alphas=array([ 0.1,  1. , 10. ])))])\n",
      "Train Score = 0.4028608345770409\n",
      "Test Score = -0.11469036265592436\n",
      "Cross Val Score = -4.5395641085905645\n",
      "RMSE Train = 7.555212395260189\n",
      "RMSE Test = 7.288165456050107\n",
      "\n",
      "\n"
     ]
    }
   ],
   "source": [
    "modelfunc(X, y)"
   ]
  },
  {
   "cell_type": "markdown",
   "id": "09eab582-0793-415e-8aae-a3de34317fb5",
   "metadata": {},
   "source": [
    "With negative crossval scores across the board, we're not going to pursue this any further.  In reality, ROI is a function of Budget and Worldwide Revenue.  If we can find or estimate a film's budget, and then we use the previous model to predict Wordlwide Revenue, then we can predict ROI as well."
   ]
  },
  {
   "cell_type": "code",
   "execution_count": null,
   "id": "756eabcd-7647-49d7-b7a1-f15fadfd4c07",
   "metadata": {},
   "outputs": [],
   "source": []
  },
  {
   "cell_type": "code",
   "execution_count": null,
   "id": "b10f6275-508b-48b1-ad28-0347e3e2d24d",
   "metadata": {},
   "outputs": [],
   "source": []
  }
 ],
 "metadata": {
  "kernelspec": {
   "display_name": "Python 3 (ipykernel)",
   "language": "python",
   "name": "python3"
  },
  "language_info": {
   "codemirror_mode": {
    "name": "ipython",
    "version": 3
   },
   "file_extension": ".py",
   "mimetype": "text/x-python",
   "name": "python",
   "nbconvert_exporter": "python",
   "pygments_lexer": "ipython3",
   "version": "3.9.7"
  }
 },
 "nbformat": 4,
 "nbformat_minor": 5
}
